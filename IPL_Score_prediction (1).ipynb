{
 "cells": [
  {
   "cell_type": "code",
   "execution_count": 1,
   "id": "bad3facc",
   "metadata": {},
   "outputs": [],
   "source": [
    "import pandas as pd\n",
    "import numpy as np\n",
    "import matplotlib.pyplot as plt\n",
    "import seaborn as sns\n",
    "from sklearn.preprocessing import LabelEncoder, MinMaxScaler\n",
    "import keras\n",
    "import tensorflow as tf\n",
    "import ipywidgets as widgets\n",
    "from IPython.display import display, clear_output\n",
    "import warnings\n",
    "\n",
    "warnings.filterwarnings(\"ignore\")"
   ]
  },
  {
   "cell_type": "code",
   "execution_count": 2,
   "id": "d5838f02",
   "metadata": {},
   "outputs": [
    {
     "data": {
      "text/plain": [
       "'C:\\\\Users\\\\new'"
      ]
     },
     "execution_count": 2,
     "metadata": {},
     "output_type": "execute_result"
    }
   ],
   "source": [
    "pwd"
   ]
  },
  {
   "cell_type": "code",
   "execution_count": 3,
   "id": "8416e5f3",
   "metadata": {},
   "outputs": [
    {
     "data": {
      "text/html": [
       "<div>\n",
       "<style scoped>\n",
       "    .dataframe tbody tr th:only-of-type {\n",
       "        vertical-align: middle;\n",
       "    }\n",
       "\n",
       "    .dataframe tbody tr th {\n",
       "        vertical-align: top;\n",
       "    }\n",
       "\n",
       "    .dataframe thead th {\n",
       "        text-align: right;\n",
       "    }\n",
       "</style>\n",
       "<table border=\"1\" class=\"dataframe\">\n",
       "  <thead>\n",
       "    <tr style=\"text-align: right;\">\n",
       "      <th></th>\n",
       "      <th>mid</th>\n",
       "      <th>date</th>\n",
       "      <th>venue</th>\n",
       "      <th>bat_team</th>\n",
       "      <th>bowl_team</th>\n",
       "      <th>batsman</th>\n",
       "      <th>bowler</th>\n",
       "      <th>runs</th>\n",
       "      <th>wickets</th>\n",
       "      <th>overs</th>\n",
       "      <th>runs_last_5</th>\n",
       "      <th>wickets_last_5</th>\n",
       "      <th>striker</th>\n",
       "      <th>non-striker</th>\n",
       "      <th>total</th>\n",
       "    </tr>\n",
       "  </thead>\n",
       "  <tbody>\n",
       "    <tr>\n",
       "      <th>0</th>\n",
       "      <td>1</td>\n",
       "      <td>2008-04-18</td>\n",
       "      <td>M Chinnaswamy Stadium</td>\n",
       "      <td>Kolkata Knight Riders</td>\n",
       "      <td>Royal Challengers Bangalore</td>\n",
       "      <td>SC Ganguly</td>\n",
       "      <td>P Kumar</td>\n",
       "      <td>1</td>\n",
       "      <td>0</td>\n",
       "      <td>0.1</td>\n",
       "      <td>1</td>\n",
       "      <td>0</td>\n",
       "      <td>0</td>\n",
       "      <td>0</td>\n",
       "      <td>222</td>\n",
       "    </tr>\n",
       "    <tr>\n",
       "      <th>1</th>\n",
       "      <td>1</td>\n",
       "      <td>2008-04-18</td>\n",
       "      <td>M Chinnaswamy Stadium</td>\n",
       "      <td>Kolkata Knight Riders</td>\n",
       "      <td>Royal Challengers Bangalore</td>\n",
       "      <td>BB McCullum</td>\n",
       "      <td>P Kumar</td>\n",
       "      <td>1</td>\n",
       "      <td>0</td>\n",
       "      <td>0.2</td>\n",
       "      <td>1</td>\n",
       "      <td>0</td>\n",
       "      <td>0</td>\n",
       "      <td>0</td>\n",
       "      <td>222</td>\n",
       "    </tr>\n",
       "    <tr>\n",
       "      <th>2</th>\n",
       "      <td>1</td>\n",
       "      <td>2008-04-18</td>\n",
       "      <td>M Chinnaswamy Stadium</td>\n",
       "      <td>Kolkata Knight Riders</td>\n",
       "      <td>Royal Challengers Bangalore</td>\n",
       "      <td>BB McCullum</td>\n",
       "      <td>P Kumar</td>\n",
       "      <td>2</td>\n",
       "      <td>0</td>\n",
       "      <td>0.2</td>\n",
       "      <td>2</td>\n",
       "      <td>0</td>\n",
       "      <td>0</td>\n",
       "      <td>0</td>\n",
       "      <td>222</td>\n",
       "    </tr>\n",
       "    <tr>\n",
       "      <th>3</th>\n",
       "      <td>1</td>\n",
       "      <td>2008-04-18</td>\n",
       "      <td>M Chinnaswamy Stadium</td>\n",
       "      <td>Kolkata Knight Riders</td>\n",
       "      <td>Royal Challengers Bangalore</td>\n",
       "      <td>BB McCullum</td>\n",
       "      <td>P Kumar</td>\n",
       "      <td>2</td>\n",
       "      <td>0</td>\n",
       "      <td>0.3</td>\n",
       "      <td>2</td>\n",
       "      <td>0</td>\n",
       "      <td>0</td>\n",
       "      <td>0</td>\n",
       "      <td>222</td>\n",
       "    </tr>\n",
       "    <tr>\n",
       "      <th>4</th>\n",
       "      <td>1</td>\n",
       "      <td>2008-04-18</td>\n",
       "      <td>M Chinnaswamy Stadium</td>\n",
       "      <td>Kolkata Knight Riders</td>\n",
       "      <td>Royal Challengers Bangalore</td>\n",
       "      <td>BB McCullum</td>\n",
       "      <td>P Kumar</td>\n",
       "      <td>2</td>\n",
       "      <td>0</td>\n",
       "      <td>0.4</td>\n",
       "      <td>2</td>\n",
       "      <td>0</td>\n",
       "      <td>0</td>\n",
       "      <td>0</td>\n",
       "      <td>222</td>\n",
       "    </tr>\n",
       "  </tbody>\n",
       "</table>\n",
       "</div>"
      ],
      "text/plain": [
       "   mid        date                  venue               bat_team  \\\n",
       "0    1  2008-04-18  M Chinnaswamy Stadium  Kolkata Knight Riders   \n",
       "1    1  2008-04-18  M Chinnaswamy Stadium  Kolkata Knight Riders   \n",
       "2    1  2008-04-18  M Chinnaswamy Stadium  Kolkata Knight Riders   \n",
       "3    1  2008-04-18  M Chinnaswamy Stadium  Kolkata Knight Riders   \n",
       "4    1  2008-04-18  M Chinnaswamy Stadium  Kolkata Knight Riders   \n",
       "\n",
       "                     bowl_team      batsman   bowler  runs  wickets  overs  \\\n",
       "0  Royal Challengers Bangalore   SC Ganguly  P Kumar     1        0    0.1   \n",
       "1  Royal Challengers Bangalore  BB McCullum  P Kumar     1        0    0.2   \n",
       "2  Royal Challengers Bangalore  BB McCullum  P Kumar     2        0    0.2   \n",
       "3  Royal Challengers Bangalore  BB McCullum  P Kumar     2        0    0.3   \n",
       "4  Royal Challengers Bangalore  BB McCullum  P Kumar     2        0    0.4   \n",
       "\n",
       "   runs_last_5  wickets_last_5  striker  non-striker  total  \n",
       "0            1               0        0            0    222  \n",
       "1            1               0        0            0    222  \n",
       "2            2               0        0            0    222  \n",
       "3            2               0        0            0    222  \n",
       "4            2               0        0            0    222  "
      ]
     },
     "execution_count": 3,
     "metadata": {},
     "output_type": "execute_result"
    }
   ],
   "source": [
    "ipl=pd.read_csv(r\"C:\\Users\\new\\Downloads\\ipl_data.csv\")\n",
    "ipl.head()"
   ]
  },
  {
   "cell_type": "code",
   "execution_count": 4,
   "id": "96df8583",
   "metadata": {},
   "outputs": [],
   "source": [
    "# Drop certain features\n",
    "df = ipl.drop(['date', 'runs', 'wickets', 'overs', 'runs_last_5', 'wickets_last_5', 'mid', 'striker', 'non-striker'], axis=1)\n",
    "X = df.drop(['total'], axis=1)\n",
    "y = df['total']"
   ]
  },
  {
   "cell_type": "code",
   "execution_count": 5,
   "id": "40512c68",
   "metadata": {},
   "outputs": [],
   "source": [
    "# Create LabelEncoder objects for categorical features\n",
    "venue_encoder = LabelEncoder()\n",
    "batting_team_encoder = LabelEncoder()\n",
    "bowling_team_encoder = LabelEncoder()\n",
    "striker_encoder = LabelEncoder()\n",
    "bowler_encoder = LabelEncoder()"
   ]
  },
  {
   "cell_type": "code",
   "execution_count": 6,
   "id": "f58240a9",
   "metadata": {},
   "outputs": [],
   "source": [
    "# Fit and transform the categorical features with label encoding\n",
    "X['venue'] = venue_encoder.fit_transform(X['venue'])\n",
    "X['bat_team'] = batting_team_encoder.fit_transform(X['bat_team'])\n",
    "X['bowl_team'] = bowling_team_encoder.fit_transform(X['bowl_team'])\n",
    "X['batsman'] = striker_encoder.fit_transform(X['batsman'])\n",
    "X['bowler'] = bowler_encoder.fit_transform(X['bowler'])"
   ]
  },
  {
   "cell_type": "code",
   "execution_count": 7,
   "id": "f46ac6f9",
   "metadata": {},
   "outputs": [],
   "source": [
    "# Train-test split\n",
    "from sklearn.model_selection import train_test_split\n",
    "\n",
    "X_train, X_test, y_train, y_test = train_test_split(X, y, test_size=0.3, random_state=42)"
   ]
  },
  {
   "cell_type": "code",
   "execution_count": 8,
   "id": "b38f3736",
   "metadata": {},
   "outputs": [],
   "source": [
    "# Min-max scaling\n",
    "scaler = MinMaxScaler()\n",
    "X_train_scaled = scaler.fit_transform(X_train)\n",
    "X_test_scaled = scaler.transform(X_test)"
   ]
  },
  {
   "cell_type": "code",
   "execution_count": 9,
   "id": "d442a983",
   "metadata": {},
   "outputs": [],
   "source": [
    "# Define the neural network model\n",
    "model = keras.Sequential([\n",
    "    keras.layers.Input(shape=(X_train_scaled.shape[1],)),  # Input layer\n",
    "    keras.layers.Dense(512, activation='relu'),  # Hidden layer with 512 units and ReLU activation\n",
    "    keras.layers.Dense(216, activation='relu'),  # Hidden layer with 216 units and ReLU activation\n",
    "    keras.layers.Dense(1, activation='linear')  # Output layer with linear activation for regression\n",
    "])"
   ]
  },
  {
   "cell_type": "code",
   "execution_count": 10,
   "id": "5ceb6543",
   "metadata": {},
   "outputs": [
    {
     "name": "stdout",
     "output_type": "stream",
     "text": [
      "Epoch 1/50\n",
      "832/832 [==============================] - 8s 8ms/step - loss: 32.3166 - val_loss: 22.0722\n",
      "Epoch 2/50\n",
      "832/832 [==============================] - 6s 7ms/step - loss: 22.3944 - val_loss: 22.1385\n",
      "Epoch 3/50\n",
      "832/832 [==============================] - 5s 6ms/step - loss: 22.3100 - val_loss: 22.0231\n",
      "Epoch 4/50\n",
      "832/832 [==============================] - 5s 7ms/step - loss: 22.2555 - val_loss: 22.4357\n",
      "Epoch 5/50\n",
      "832/832 [==============================] - 6s 7ms/step - loss: 22.2424 - val_loss: 21.8807\n",
      "Epoch 6/50\n",
      "832/832 [==============================] - 6s 8ms/step - loss: 22.1833 - val_loss: 21.8720\n",
      "Epoch 7/50\n",
      "832/832 [==============================] - 7s 8ms/step - loss: 22.1753 - val_loss: 22.2245\n",
      "Epoch 8/50\n",
      "832/832 [==============================] - 6s 8ms/step - loss: 22.1437 - val_loss: 21.8718\n",
      "Epoch 9/50\n",
      "832/832 [==============================] - 6s 7ms/step - loss: 22.1511 - val_loss: 21.8438\n",
      "Epoch 10/50\n",
      "832/832 [==============================] - 7s 8ms/step - loss: 22.1251 - val_loss: 21.8471\n",
      "Epoch 11/50\n",
      "832/832 [==============================] - 6s 8ms/step - loss: 22.0751 - val_loss: 21.8187\n",
      "Epoch 12/50\n",
      "832/832 [==============================] - 6s 8ms/step - loss: 22.0862 - val_loss: 21.8987\n",
      "Epoch 13/50\n",
      "832/832 [==============================] - 6s 8ms/step - loss: 22.0718 - val_loss: 21.9412\n",
      "Epoch 14/50\n",
      "832/832 [==============================] - 6s 7ms/step - loss: 22.0683 - val_loss: 21.7308\n",
      "Epoch 15/50\n",
      "832/832 [==============================] - 6s 7ms/step - loss: 22.0389 - val_loss: 21.8094\n",
      "Epoch 16/50\n",
      "832/832 [==============================] - 6s 7ms/step - loss: 22.0540 - val_loss: 21.8639\n",
      "Epoch 17/50\n",
      "832/832 [==============================] - 6s 8ms/step - loss: 22.0391 - val_loss: 22.5938\n",
      "Epoch 18/50\n",
      "832/832 [==============================] - 6s 8ms/step - loss: 22.0546 - val_loss: 21.7127\n",
      "Epoch 19/50\n",
      "832/832 [==============================] - 6s 7ms/step - loss: 21.9959 - val_loss: 22.0405\n",
      "Epoch 20/50\n",
      "832/832 [==============================] - 6s 7ms/step - loss: 21.8421 - val_loss: 21.6613\n",
      "Epoch 21/50\n",
      "832/832 [==============================] - 6s 8ms/step - loss: 21.7688 - val_loss: 21.4630\n",
      "Epoch 22/50\n",
      "832/832 [==============================] - 6s 8ms/step - loss: 21.7157 - val_loss: 21.4647\n",
      "Epoch 23/50\n",
      "832/832 [==============================] - 6s 7ms/step - loss: 21.6646 - val_loss: 21.6323\n",
      "Epoch 24/50\n",
      "832/832 [==============================] - 6s 7ms/step - loss: 21.6050 - val_loss: 21.4052\n",
      "Epoch 25/50\n",
      "832/832 [==============================] - 5s 6ms/step - loss: 21.5877 - val_loss: 21.2742\n",
      "Epoch 26/50\n",
      "832/832 [==============================] - 6s 7ms/step - loss: 21.5156 - val_loss: 21.2740\n",
      "Epoch 27/50\n",
      "832/832 [==============================] - 7s 8ms/step - loss: 21.4340 - val_loss: 21.2920\n",
      "Epoch 28/50\n",
      "832/832 [==============================] - 7s 8ms/step - loss: 21.4066 - val_loss: 21.2446\n",
      "Epoch 29/50\n",
      "832/832 [==============================] - 7s 8ms/step - loss: 21.2853 - val_loss: 21.0641\n",
      "Epoch 30/50\n",
      "832/832 [==============================] - 6s 7ms/step - loss: 21.2650 - val_loss: 21.2146\n",
      "Epoch 31/50\n",
      "832/832 [==============================] - 7s 8ms/step - loss: 21.1301 - val_loss: 20.8647\n",
      "Epoch 32/50\n",
      "832/832 [==============================] - 6s 8ms/step - loss: 21.0660 - val_loss: 21.3361\n",
      "Epoch 33/50\n",
      "832/832 [==============================] - 6s 8ms/step - loss: 21.0096 - val_loss: 20.6247\n",
      "Epoch 34/50\n",
      "832/832 [==============================] - 6s 8ms/step - loss: 20.8916 - val_loss: 20.5482\n",
      "Epoch 35/50\n",
      "832/832 [==============================] - 5s 6ms/step - loss: 20.7887 - val_loss: 20.5219\n",
      "Epoch 36/50\n",
      "832/832 [==============================] - 6s 7ms/step - loss: 20.6664 - val_loss: 20.4478\n",
      "Epoch 37/50\n",
      "832/832 [==============================] - 6s 7ms/step - loss: 20.5826 - val_loss: 20.3270\n",
      "Epoch 38/50\n",
      "832/832 [==============================] - 6s 8ms/step - loss: 20.4685 - val_loss: 20.2902\n",
      "Epoch 39/50\n",
      "832/832 [==============================] - 6s 8ms/step - loss: 20.3001 - val_loss: 20.1920\n",
      "Epoch 40/50\n",
      "832/832 [==============================] - 6s 7ms/step - loss: 20.2132 - val_loss: 19.8712\n",
      "Epoch 41/50\n",
      "832/832 [==============================] - 6s 8ms/step - loss: 20.0976 - val_loss: 19.7712\n",
      "Epoch 42/50\n",
      "832/832 [==============================] - 6s 8ms/step - loss: 19.9890 - val_loss: 19.7143\n",
      "Epoch 43/50\n",
      "832/832 [==============================] - 6s 7ms/step - loss: 19.8634 - val_loss: 19.4836\n",
      "Epoch 44/50\n",
      "832/832 [==============================] - 6s 7ms/step - loss: 19.7400 - val_loss: 19.4188\n",
      "Epoch 45/50\n",
      "832/832 [==============================] - 6s 8ms/step - loss: 19.6744 - val_loss: 19.6418\n",
      "Epoch 46/50\n",
      "832/832 [==============================] - 6s 7ms/step - loss: 19.4871 - val_loss: 19.1647\n",
      "Epoch 47/50\n",
      "832/832 [==============================] - 6s 7ms/step - loss: 19.4125 - val_loss: 19.4256\n",
      "Epoch 48/50\n",
      "832/832 [==============================] - 6s 7ms/step - loss: 19.3188 - val_loss: 19.1750\n",
      "Epoch 49/50\n",
      "832/832 [==============================] - 6s 7ms/step - loss: 19.2191 - val_loss: 19.0401\n",
      "Epoch 50/50\n",
      "832/832 [==============================] - 6s 8ms/step - loss: 19.1806 - val_loss: 18.9649\n"
     ]
    },
    {
     "data": {
      "text/plain": [
       "<keras.src.callbacks.History at 0x1d3a5362190>"
      ]
     },
     "execution_count": 10,
     "metadata": {},
     "output_type": "execute_result"
    }
   ],
   "source": [
    "# Compile the model with Huber loss\n",
    "huber_loss = tf.keras.losses.Huber(delta=1.0)\n",
    "model.compile(optimizer='adam', loss=huber_loss)\n",
    "\n",
    "# Train the model\n",
    "model.fit(X_train_scaled, y_train, epochs=50, batch_size=64, validation_data=(X_test_scaled, y_test))"
   ]
  },
  {
   "cell_type": "code",
   "execution_count": 11,
   "id": "02616ff7",
   "metadata": {},
   "outputs": [
    {
     "name": "stdout",
     "output_type": "stream",
     "text": [
      "713/713 [==============================] - 2s 3ms/step\n",
      "Mean Absolute Error: 19.456679703023084\n",
      "Mean Squared Error: 705.7657985834381\n"
     ]
    },
    {
     "data": {
      "application/vnd.jupyter.widget-view+json": {
       "model_id": "b06825a30c3f4a7893ae32ef20cc568b",
       "version_major": 2,
       "version_minor": 0
      },
      "text/plain": [
       "Dropdown(description='Select Venue:', options=('M Chinnaswamy Stadium', 'Punjab Cricket Association Stadium, M…"
      ]
     },
     "metadata": {},
     "output_type": "display_data"
    },
    {
     "data": {
      "application/vnd.jupyter.widget-view+json": {
       "model_id": "628c2724d6394cb8a213bfb7ded3b37d",
       "version_major": 2,
       "version_minor": 0
      },
      "text/plain": [
       "Dropdown(description='Select Batting Team:', options=('Kolkata Knight Riders', 'Chennai Super Kings', 'Rajasth…"
      ]
     },
     "metadata": {},
     "output_type": "display_data"
    },
    {
     "data": {
      "application/vnd.jupyter.widget-view+json": {
       "model_id": "08a98962925947fb9eb1b1ecb5178ccd",
       "version_major": 2,
       "version_minor": 0
      },
      "text/plain": [
       "Dropdown(description='Select Bowling Team:', options=('Royal Challengers Bangalore', 'Kings XI Punjab', 'Delhi…"
      ]
     },
     "metadata": {},
     "output_type": "display_data"
    },
    {
     "data": {
      "application/vnd.jupyter.widget-view+json": {
       "model_id": "1aad1b9d278a48529957d7913fe22283",
       "version_major": 2,
       "version_minor": 0
      },
      "text/plain": [
       "Dropdown(description='Select Striker:', options=('SC Ganguly', 'BB McCullum', 'RT Ponting', 'DJ Hussey', 'Moha…"
      ]
     },
     "metadata": {},
     "output_type": "display_data"
    },
    {
     "data": {
      "application/vnd.jupyter.widget-view+json": {
       "model_id": "4dd40c85c5ff49378d8030cf7d1700e7",
       "version_major": 2,
       "version_minor": 0
      },
      "text/plain": [
       "Dropdown(description='Select Bowler:', options=('P Kumar', 'Z Khan', 'AA Noffke', 'JH Kallis', 'SB Joshi', 'CL…"
      ]
     },
     "metadata": {},
     "output_type": "display_data"
    },
    {
     "data": {
      "application/vnd.jupyter.widget-view+json": {
       "model_id": "4d7957bd0d8e449ba92b4adf2dfc6c3c",
       "version_major": 2,
       "version_minor": 0
      },
      "text/plain": [
       "Button(description='Predict Score', style=ButtonStyle())"
      ]
     },
     "metadata": {},
     "output_type": "display_data"
    },
    {
     "data": {
      "application/vnd.jupyter.widget-view+json": {
       "model_id": "294c4a0bbc334638a3047b0a0cebfa8f",
       "version_major": 2,
       "version_minor": 0
      },
      "text/plain": [
       "Output()"
      ]
     },
     "metadata": {},
     "output_type": "display_data"
    }
   ],
   "source": [
    "# Make predictions\n",
    "predictions = model.predict(X_test_scaled)\n",
    "\n",
    "from sklearn.metrics import mean_absolute_error, mean_squared_error\n",
    "\n",
    "mae = mean_absolute_error(y_test, predictions)\n",
    "mse = mean_squared_error(y_test, predictions)\n",
    "\n",
    "print(\"Mean Absolute Error:\", mae)\n",
    "print(\"Mean Squared Error:\", mse)\n",
    "\n",
    "venue = widgets.Dropdown(options=df['venue'].unique().tolist(), description='Select Venue:')\n",
    "batting_team = widgets.Dropdown(options=df['bat_team'].unique().tolist(), description='Select Batting Team:')\n",
    "bowling_team = widgets.Dropdown(options=df['bowl_team'].unique().tolist(), description='Select Bowling Team:')\n",
    "striker = widgets.Dropdown(options=df['batsman'].unique().tolist(), description='Select Striker:')\n",
    "bowler = widgets.Dropdown(options=df['bowler'].unique().tolist(), description='Select Bowler:')\n",
    "\n",
    "predict_button = widgets.Button(description=\"Predict Score\")\n",
    "\n",
    "def predict_score(b):\n",
    "    with output:\n",
    "        clear_output()  # Clear the previous output\n",
    "\n",
    "        # Decode the encoded values back to their original values\n",
    "        decoded_venue = venue_encoder.transform([venue.value])\n",
    "        decoded_batting_team = batting_team_encoder.transform([batting_team.value])\n",
    "        decoded_bowling_team = bowling_team_encoder.transform([bowling_team.value])\n",
    "        decoded_striker = striker_encoder.transform([striker.value])\n",
    "        decoded_bowler = bowler_encoder.transform([bowler.value])\n",
    "\n",
    "        input_data = np.array([decoded_venue[0], decoded_batting_team[0], decoded_bowling_team[0], decoded_striker[0], decoded_bowler[0]])\n",
    "        input_data = input_data.reshape(1, 5)\n",
    "        input_data = scaler.transform(input_data)\n",
    "        predicted_score = model.predict(input_data)\n",
    "        predicted_score = int(predicted_score[0, 0])\n",
    "\n",
    "        print(\"Predicted Score:\", predicted_score)\n",
    "\n",
    "predict_button.on_click(predict_score)\n",
    "output = widgets.Output()\n",
    "\n",
    "display(venue, batting_team, bowling_team, striker, bowler, predict_button, output)\n"
   ]
  },
  {
   "cell_type": "code",
   "execution_count": null,
   "id": "30055a6e",
   "metadata": {},
   "outputs": [],
   "source": []
  }
 ],
 "metadata": {
  "kernelspec": {
   "display_name": "Python 3 (ipykernel)",
   "language": "python",
   "name": "python3"
  },
  "language_info": {
   "codemirror_mode": {
    "name": "ipython",
    "version": 3
   },
   "file_extension": ".py",
   "mimetype": "text/x-python",
   "name": "python",
   "nbconvert_exporter": "python",
   "pygments_lexer": "ipython3",
   "version": "3.11.4"
  }
 },
 "nbformat": 4,
 "nbformat_minor": 5
}

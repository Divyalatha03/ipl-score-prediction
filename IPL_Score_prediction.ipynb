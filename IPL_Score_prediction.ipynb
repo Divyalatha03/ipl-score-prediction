{
 "cells": [
  {
   "cell_type": "code",
   "execution_count": 1,
   "id": "bad3facc",
   "metadata": {},
   "outputs": [],
   "source": [
    "import pandas as pd\n",
    "import numpy as np\n",
    "import matplotlib.pyplot as plt\n",
    "import seaborn as sns\n",
    "from sklearn.preprocessing import LabelEncoder, MinMaxScaler\n",
    "import keras\n",
    "import tensorflow as tf\n",
    "import ipywidgets as widgets\n",
    "from IPython.display import display, clear_output\n",
    "import warnings\n",
    "\n",
    "warnings.filterwarnings(\"ignore\")"
   ]
  },
  {
   "cell_type": "code",
   "execution_count": 2,
   "id": "d5838f02",
   "metadata": {},
   "outputs": [
    {
     "data": {
      "text/plain": [
       "'C:\\\\Users\\\\new'"
      ]
     },
     "execution_count": 2,
     "metadata": {},
     "output_type": "execute_result"
    }
   ],
   "source": [
    "pwd"
   ]
  },
  {
   "cell_type": "code",
   "execution_count": 3,
   "id": "8416e5f3",
   "metadata": {},
   "outputs": [
    {
     "data": {
      "text/html": [
       "<div>\n",
       "<style scoped>\n",
       "    .dataframe tbody tr th:only-of-type {\n",
       "        vertical-align: middle;\n",
       "    }\n",
       "\n",
       "    .dataframe tbody tr th {\n",
       "        vertical-align: top;\n",
       "    }\n",
       "\n",
       "    .dataframe thead th {\n",
       "        text-align: right;\n",
       "    }\n",
       "</style>\n",
       "<table border=\"1\" class=\"dataframe\">\n",
       "  <thead>\n",
       "    <tr style=\"text-align: right;\">\n",
       "      <th></th>\n",
       "      <th>mid</th>\n",
       "      <th>date</th>\n",
       "      <th>venue</th>\n",
       "      <th>bat_team</th>\n",
       "      <th>bowl_team</th>\n",
       "      <th>batsman</th>\n",
       "      <th>bowler</th>\n",
       "      <th>runs</th>\n",
       "      <th>wickets</th>\n",
       "      <th>overs</th>\n",
       "      <th>runs_last_5</th>\n",
       "      <th>wickets_last_5</th>\n",
       "      <th>striker</th>\n",
       "      <th>non-striker</th>\n",
       "      <th>total</th>\n",
       "    </tr>\n",
       "  </thead>\n",
       "  <tbody>\n",
       "    <tr>\n",
       "      <th>0</th>\n",
       "      <td>1</td>\n",
       "      <td>2008-04-18</td>\n",
       "      <td>M Chinnaswamy Stadium</td>\n",
       "      <td>Kolkata Knight Riders</td>\n",
       "      <td>Royal Challengers Bangalore</td>\n",
       "      <td>SC Ganguly</td>\n",
       "      <td>P Kumar</td>\n",
       "      <td>1</td>\n",
       "      <td>0</td>\n",
       "      <td>0.1</td>\n",
       "      <td>1</td>\n",
       "      <td>0</td>\n",
       "      <td>0</td>\n",
       "      <td>0</td>\n",
       "      <td>222</td>\n",
       "    </tr>\n",
       "    <tr>\n",
       "      <th>1</th>\n",
       "      <td>1</td>\n",
       "      <td>2008-04-18</td>\n",
       "      <td>M Chinnaswamy Stadium</td>\n",
       "      <td>Kolkata Knight Riders</td>\n",
       "      <td>Royal Challengers Bangalore</td>\n",
       "      <td>BB McCullum</td>\n",
       "      <td>P Kumar</td>\n",
       "      <td>1</td>\n",
       "      <td>0</td>\n",
       "      <td>0.2</td>\n",
       "      <td>1</td>\n",
       "      <td>0</td>\n",
       "      <td>0</td>\n",
       "      <td>0</td>\n",
       "      <td>222</td>\n",
       "    </tr>\n",
       "    <tr>\n",
       "      <th>2</th>\n",
       "      <td>1</td>\n",
       "      <td>2008-04-18</td>\n",
       "      <td>M Chinnaswamy Stadium</td>\n",
       "      <td>Kolkata Knight Riders</td>\n",
       "      <td>Royal Challengers Bangalore</td>\n",
       "      <td>BB McCullum</td>\n",
       "      <td>P Kumar</td>\n",
       "      <td>2</td>\n",
       "      <td>0</td>\n",
       "      <td>0.2</td>\n",
       "      <td>2</td>\n",
       "      <td>0</td>\n",
       "      <td>0</td>\n",
       "      <td>0</td>\n",
       "      <td>222</td>\n",
       "    </tr>\n",
       "    <tr>\n",
       "      <th>3</th>\n",
       "      <td>1</td>\n",
       "      <td>2008-04-18</td>\n",
       "      <td>M Chinnaswamy Stadium</td>\n",
       "      <td>Kolkata Knight Riders</td>\n",
       "      <td>Royal Challengers Bangalore</td>\n",
       "      <td>BB McCullum</td>\n",
       "      <td>P Kumar</td>\n",
       "      <td>2</td>\n",
       "      <td>0</td>\n",
       "      <td>0.3</td>\n",
       "      <td>2</td>\n",
       "      <td>0</td>\n",
       "      <td>0</td>\n",
       "      <td>0</td>\n",
       "      <td>222</td>\n",
       "    </tr>\n",
       "    <tr>\n",
       "      <th>4</th>\n",
       "      <td>1</td>\n",
       "      <td>2008-04-18</td>\n",
       "      <td>M Chinnaswamy Stadium</td>\n",
       "      <td>Kolkata Knight Riders</td>\n",
       "      <td>Royal Challengers Bangalore</td>\n",
       "      <td>BB McCullum</td>\n",
       "      <td>P Kumar</td>\n",
       "      <td>2</td>\n",
       "      <td>0</td>\n",
       "      <td>0.4</td>\n",
       "      <td>2</td>\n",
       "      <td>0</td>\n",
       "      <td>0</td>\n",
       "      <td>0</td>\n",
       "      <td>222</td>\n",
       "    </tr>\n",
       "  </tbody>\n",
       "</table>\n",
       "</div>"
      ],
      "text/plain": [
       "   mid        date                  venue               bat_team  \\\n",
       "0    1  2008-04-18  M Chinnaswamy Stadium  Kolkata Knight Riders   \n",
       "1    1  2008-04-18  M Chinnaswamy Stadium  Kolkata Knight Riders   \n",
       "2    1  2008-04-18  M Chinnaswamy Stadium  Kolkata Knight Riders   \n",
       "3    1  2008-04-18  M Chinnaswamy Stadium  Kolkata Knight Riders   \n",
       "4    1  2008-04-18  M Chinnaswamy Stadium  Kolkata Knight Riders   \n",
       "\n",
       "                     bowl_team      batsman   bowler  runs  wickets  overs  \\\n",
       "0  Royal Challengers Bangalore   SC Ganguly  P Kumar     1        0    0.1   \n",
       "1  Royal Challengers Bangalore  BB McCullum  P Kumar     1        0    0.2   \n",
       "2  Royal Challengers Bangalore  BB McCullum  P Kumar     2        0    0.2   \n",
       "3  Royal Challengers Bangalore  BB McCullum  P Kumar     2        0    0.3   \n",
       "4  Royal Challengers Bangalore  BB McCullum  P Kumar     2        0    0.4   \n",
       "\n",
       "   runs_last_5  wickets_last_5  striker  non-striker  total  \n",
       "0            1               0        0            0    222  \n",
       "1            1               0        0            0    222  \n",
       "2            2               0        0            0    222  \n",
       "3            2               0        0            0    222  \n",
       "4            2               0        0            0    222  "
      ]
     },
     "execution_count": 3,
     "metadata": {},
     "output_type": "execute_result"
    }
   ],
   "source": [
    "ipl=pd.read_csv(r\"C:\\Users\\new\\Downloads\\ipl_data.csv\")\n",
    "ipl.head()"
   ]
  },
  {
   "cell_type": "code",
   "execution_count": 4,
   "id": "96df8583",
   "metadata": {},
   "outputs": [],
   "source": [
    "# Drop certain features\n",
    "df = ipl.drop(['date', 'runs', 'wickets', 'overs', 'runs_last_5', 'wickets_last_5', 'mid', 'striker', 'non-striker'], axis=1)\n",
    "X = df.drop(['total'], axis=1)\n",
    "y = df['total']"
   ]
  },
  {
   "cell_type": "code",
   "execution_count": 5,
   "id": "40512c68",
   "metadata": {},
   "outputs": [],
   "source": [
    "# Create LabelEncoder objects for categorical features\n",
    "venue_encoder = LabelEncoder()\n",
    "batting_team_encoder = LabelEncoder()\n",
    "bowling_team_encoder = LabelEncoder()\n",
    "striker_encoder = LabelEncoder()\n",
    "bowler_encoder = LabelEncoder()"
   ]
  },
  {
   "cell_type": "code",
   "execution_count": 6,
   "id": "f58240a9",
   "metadata": {},
   "outputs": [],
   "source": [
    "# Fit and transform the categorical features with label encoding\n",
    "X['venue'] = venue_encoder.fit_transform(X['venue'])\n",
    "X['bat_team'] = batting_team_encoder.fit_transform(X['bat_team'])\n",
    "X['bowl_team'] = bowling_team_encoder.fit_transform(X['bowl_team'])\n",
    "X['batsman'] = striker_encoder.fit_transform(X['batsman'])\n",
    "X['bowler'] = bowler_encoder.fit_transform(X['bowler'])"
   ]
  },
  {
   "cell_type": "code",
   "execution_count": 7,
   "id": "f46ac6f9",
   "metadata": {},
   "outputs": [],
   "source": [
    "# Train-test split\n",
    "from sklearn.model_selection import train_test_split\n",
    "\n",
    "X_train, X_test, y_train, y_test = train_test_split(X, y, test_size=0.3, random_state=42)"
   ]
  },
  {
   "cell_type": "code",
   "execution_count": 8,
   "id": "b38f3736",
   "metadata": {},
   "outputs": [],
   "source": [
    "# Min-max scaling\n",
    "scaler = MinMaxScaler()\n",
    "X_train_scaled = scaler.fit_transform(X_train)\n",
    "X_test_scaled = scaler.transform(X_test)"
   ]
  },
  {
   "cell_type": "code",
   "execution_count": 9,
   "id": "d442a983",
   "metadata": {},
   "outputs": [],
   "source": [
    "# Define the neural network model\n",
    "model = keras.Sequential([\n",
    "    keras.layers.Input(shape=(X_train_scaled.shape[1],)),  # Input layer\n",
    "    keras.layers.Dense(512, activation='relu'),  # Hidden layer with 512 units and ReLU activation\n",
    "    keras.layers.Dense(216, activation='relu'),  # Hidden layer with 216 units and ReLU activation\n",
    "    keras.layers.Dense(1, activation='linear')  # Output layer with linear activation for regression\n",
    "])"
   ]
  },
  {
   "cell_type": "code",
   "execution_count": 10,
   "id": "5ceb6543",
   "metadata": {},
   "outputs": [
    {
     "name": "stdout",
     "output_type": "stream",
     "text": [
      "Epoch 1/50\n",
      "832/832 [==============================] - 3s 3ms/step - loss: 31.9938 - val_loss: 22.0909\n",
      "Epoch 2/50\n",
      "832/832 [==============================] - 3s 3ms/step - loss: 22.3139 - val_loss: 21.9351\n",
      "Epoch 3/50\n",
      "832/832 [==============================] - 3s 3ms/step - loss: 22.2436 - val_loss: 21.8523\n",
      "Epoch 4/50\n",
      "832/832 [==============================] - 3s 3ms/step - loss: 22.1095 - val_loss: 21.7534\n",
      "Epoch 5/50\n",
      "832/832 [==============================] - 3s 3ms/step - loss: 22.0149 - val_loss: 21.8724\n",
      "Epoch 6/50\n",
      "832/832 [==============================] - 3s 3ms/step - loss: 21.9163 - val_loss: 21.7203\n",
      "Epoch 7/50\n",
      "832/832 [==============================] - 3s 3ms/step - loss: 21.8953 - val_loss: 22.1500\n",
      "Epoch 8/50\n",
      "832/832 [==============================] - 3s 3ms/step - loss: 21.8374 - val_loss: 21.6039\n",
      "Epoch 9/50\n",
      "832/832 [==============================] - 3s 3ms/step - loss: 21.8275 - val_loss: 21.5267\n",
      "Epoch 10/50\n",
      "832/832 [==============================] - 3s 3ms/step - loss: 21.7254 - val_loss: 21.4685\n",
      "Epoch 11/50\n",
      "832/832 [==============================] - 3s 3ms/step - loss: 21.7476 - val_loss: 22.3537\n",
      "Epoch 12/50\n",
      "832/832 [==============================] - 3s 3ms/step - loss: 21.6935 - val_loss: 21.4238\n",
      "Epoch 13/50\n",
      "832/832 [==============================] - 3s 3ms/step - loss: 21.6796 - val_loss: 21.3701\n",
      "Epoch 14/50\n",
      "832/832 [==============================] - 3s 3ms/step - loss: 21.6609 - val_loss: 21.6640\n",
      "Epoch 15/50\n",
      "832/832 [==============================] - 3s 3ms/step - loss: 21.5915 - val_loss: 21.8600\n",
      "Epoch 16/50\n",
      "832/832 [==============================] - 3s 3ms/step - loss: 21.5614 - val_loss: 21.2561\n",
      "Epoch 17/50\n",
      "832/832 [==============================] - 3s 3ms/step - loss: 21.4986 - val_loss: 21.3136\n",
      "Epoch 18/50\n",
      "832/832 [==============================] - 3s 3ms/step - loss: 21.4028 - val_loss: 21.1148\n",
      "Epoch 19/50\n",
      "832/832 [==============================] - 3s 3ms/step - loss: 21.3630 - val_loss: 21.2905\n",
      "Epoch 20/50\n",
      "832/832 [==============================] - 3s 3ms/step - loss: 21.2961 - val_loss: 21.2746\n",
      "Epoch 21/50\n",
      "832/832 [==============================] - 3s 3ms/step - loss: 21.2360 - val_loss: 20.9663\n",
      "Epoch 22/50\n",
      "832/832 [==============================] - 3s 3ms/step - loss: 21.1532 - val_loss: 20.8392\n",
      "Epoch 23/50\n",
      "832/832 [==============================] - 3s 3ms/step - loss: 21.0587 - val_loss: 21.5126\n",
      "Epoch 24/50\n",
      "832/832 [==============================] - 3s 3ms/step - loss: 21.0664 - val_loss: 20.7928\n",
      "Epoch 25/50\n",
      "832/832 [==============================] - 3s 3ms/step - loss: 20.9693 - val_loss: 21.0904\n",
      "Epoch 26/50\n",
      "832/832 [==============================] - 3s 3ms/step - loss: 20.9253 - val_loss: 21.0346\n",
      "Epoch 27/50\n",
      "832/832 [==============================] - 3s 3ms/step - loss: 20.8369 - val_loss: 20.6903\n",
      "Epoch 28/50\n",
      "832/832 [==============================] - 3s 3ms/step - loss: 20.8108 - val_loss: 20.7860\n",
      "Epoch 29/50\n",
      "832/832 [==============================] - 3s 3ms/step - loss: 20.7033 - val_loss: 20.4739\n",
      "Epoch 30/50\n",
      "832/832 [==============================] - 3s 3ms/step - loss: 20.6426 - val_loss: 20.3969\n",
      "Epoch 31/50\n",
      "832/832 [==============================] - 3s 3ms/step - loss: 20.5152 - val_loss: 20.5335\n",
      "Epoch 32/50\n",
      "832/832 [==============================] - 3s 3ms/step - loss: 20.4496 - val_loss: 20.3672\n",
      "Epoch 33/50\n",
      "832/832 [==============================] - 3s 3ms/step - loss: 20.3036 - val_loss: 20.0282\n",
      "Epoch 34/50\n",
      "832/832 [==============================] - 3s 3ms/step - loss: 20.1662 - val_loss: 20.1598\n",
      "Epoch 35/50\n",
      "832/832 [==============================] - 3s 3ms/step - loss: 20.0741 - val_loss: 19.7906\n",
      "Epoch 36/50\n",
      "832/832 [==============================] - 3s 3ms/step - loss: 19.9262 - val_loss: 19.5592\n",
      "Epoch 37/50\n",
      "832/832 [==============================] - 3s 3ms/step - loss: 19.8253 - val_loss: 19.5752\n",
      "Epoch 38/50\n",
      "832/832 [==============================] - 3s 4ms/step - loss: 19.6768 - val_loss: 19.4222\n",
      "Epoch 39/50\n",
      "832/832 [==============================] - 3s 3ms/step - loss: 19.6379 - val_loss: 19.3536\n",
      "Epoch 40/50\n",
      "832/832 [==============================] - 3s 3ms/step - loss: 19.4857 - val_loss: 19.1650\n",
      "Epoch 41/50\n",
      "832/832 [==============================] - 3s 3ms/step - loss: 19.3939 - val_loss: 19.4791\n",
      "Epoch 42/50\n",
      "832/832 [==============================] - 3s 3ms/step - loss: 19.2436 - val_loss: 19.0906\n",
      "Epoch 43/50\n",
      "832/832 [==============================] - 3s 3ms/step - loss: 19.1611 - val_loss: 19.1153\n",
      "Epoch 44/50\n",
      "832/832 [==============================] - 3s 3ms/step - loss: 19.0882 - val_loss: 18.8264\n",
      "Epoch 45/50\n",
      "832/832 [==============================] - 3s 3ms/step - loss: 18.9771 - val_loss: 18.6780\n",
      "Epoch 46/50\n",
      "832/832 [==============================] - 3s 3ms/step - loss: 18.9167 - val_loss: 19.2331\n",
      "Epoch 47/50\n",
      "832/832 [==============================] - 3s 3ms/step - loss: 18.8707 - val_loss: 18.7428\n",
      "Epoch 48/50\n",
      "832/832 [==============================] - 3s 3ms/step - loss: 18.7578 - val_loss: 18.5907\n",
      "Epoch 49/50\n",
      "832/832 [==============================] - 3s 3ms/step - loss: 18.7036 - val_loss: 18.4758\n",
      "Epoch 50/50\n",
      "832/832 [==============================] - 3s 3ms/step - loss: 18.6579 - val_loss: 18.3883\n"
     ]
    },
    {
     "data": {
      "text/plain": [
       "<keras.src.callbacks.History at 0x1d07b5b6690>"
      ]
     },
     "execution_count": 10,
     "metadata": {},
     "output_type": "execute_result"
    }
   ],
   "source": [
    "# Compile the model with Huber loss\n",
    "huber_loss = tf.keras.losses.Huber(delta=1.0)\n",
    "model.compile(optimizer='adam', loss=huber_loss)\n",
    "\n",
    "# Train the model\n",
    "model.fit(X_train_scaled, y_train, epochs=50, batch_size=64, validation_data=(X_test_scaled, y_test))"
   ]
  },
  {
   "cell_type": "code",
   "execution_count": 11,
   "id": "02616ff7",
   "metadata": {},
   "outputs": [
    {
     "name": "stdout",
     "output_type": "stream",
     "text": [
      "713/713 [==============================] - 1s 1ms/step\n",
      "Mean Absolute Error: 18.878550546249258\n",
      "Mean Squared Error: 678.6983346770544\n"
     ]
    },
    {
     "data": {
      "application/vnd.jupyter.widget-view+json": {
       "model_id": "d3267fde0db74026b2c6dbf80530b7b3",
       "version_major": 2,
       "version_minor": 0
      },
      "text/plain": [
       "Dropdown(description='Select Venue:', options=('M Chinnaswamy Stadium', 'Punjab Cricket Association Stadium, M…"
      ]
     },
     "metadata": {},
     "output_type": "display_data"
    },
    {
     "data": {
      "application/vnd.jupyter.widget-view+json": {
       "model_id": "ab8edad6bb2241769d256be8ae061204",
       "version_major": 2,
       "version_minor": 0
      },
      "text/plain": [
       "Dropdown(description='Select Batting Team:', options=('Kolkata Knight Riders', 'Chennai Super Kings', 'Rajasth…"
      ]
     },
     "metadata": {},
     "output_type": "display_data"
    },
    {
     "data": {
      "application/vnd.jupyter.widget-view+json": {
       "model_id": "d3afdb9a6b5943d6a971081f92f8b9ef",
       "version_major": 2,
       "version_minor": 0
      },
      "text/plain": [
       "Dropdown(description='Select Bowling Team:', options=('Royal Challengers Bangalore', 'Kings XI Punjab', 'Delhi…"
      ]
     },
     "metadata": {},
     "output_type": "display_data"
    },
    {
     "data": {
      "application/vnd.jupyter.widget-view+json": {
       "model_id": "fee76990085d40f98db4ec1cfbf0f2aa",
       "version_major": 2,
       "version_minor": 0
      },
      "text/plain": [
       "Dropdown(description='Select Striker:', options=('SC Ganguly', 'BB McCullum', 'RT Ponting', 'DJ Hussey', 'Moha…"
      ]
     },
     "metadata": {},
     "output_type": "display_data"
    },
    {
     "data": {
      "application/vnd.jupyter.widget-view+json": {
       "model_id": "bd9ac037f480449a81bce9a32eb66c5c",
       "version_major": 2,
       "version_minor": 0
      },
      "text/plain": [
       "Dropdown(description='Select Bowler:', options=('P Kumar', 'Z Khan', 'AA Noffke', 'JH Kallis', 'SB Joshi', 'CL…"
      ]
     },
     "metadata": {},
     "output_type": "display_data"
    },
    {
     "data": {
      "application/vnd.jupyter.widget-view+json": {
       "model_id": "385a61c97b0a483a93234c7ea76aa4fc",
       "version_major": 2,
       "version_minor": 0
      },
      "text/plain": [
       "Button(description='Predict Score', style=ButtonStyle())"
      ]
     },
     "metadata": {},
     "output_type": "display_data"
    },
    {
     "data": {
      "application/vnd.jupyter.widget-view+json": {
       "model_id": "a0f4d1db34794aecbae588ea5cb6872c",
       "version_major": 2,
       "version_minor": 0
      },
      "text/plain": [
       "Output()"
      ]
     },
     "metadata": {},
     "output_type": "display_data"
    }
   ],
   "source": [
    "# Make predictions\n",
    "predictions = model.predict(X_test_scaled)\n",
    "\n",
    "from sklearn.metrics import mean_absolute_error, mean_squared_error\n",
    "\n",
    "mae = mean_absolute_error(y_test, predictions)\n",
    "mse = mean_squared_error(y_test, predictions)\n",
    "\n",
    "print(\"Mean Absolute Error:\", mae)\n",
    "print(\"Mean Squared Error:\", mse)\n",
    "\n",
    "venue = widgets.Dropdown(options=df['venue'].unique().tolist(), description='Select Venue:')\n",
    "batting_team = widgets.Dropdown(options=df['bat_team'].unique().tolist(), description='Select Batting Team:')\n",
    "bowling_team = widgets.Dropdown(options=df['bowl_team'].unique().tolist(), description='Select Bowling Team:')\n",
    "striker = widgets.Dropdown(options=df['batsman'].unique().tolist(), description='Select Striker:')\n",
    "bowler = widgets.Dropdown(options=df['bowler'].unique().tolist(), description='Select Bowler:')\n",
    "\n",
    "predict_button = widgets.Button(description=\"Predict Score\")\n",
    "\n",
    "def predict_score(b):\n",
    "    with output:\n",
    "        clear_output()  # Clear the previous output\n",
    "\n",
    "        # Decode the encoded values back to their original values\n",
    "        decoded_venue = venue_encoder.transform([venue.value])\n",
    "        decoded_batting_team = batting_team_encoder.transform([batting_team.value])\n",
    "        decoded_bowling_team = bowling_team_encoder.transform([bowling_team.value])\n",
    "        decoded_striker = striker_encoder.transform([striker.value])\n",
    "        decoded_bowler = bowler_encoder.transform([bowler.value])\n",
    "\n",
    "        input_data = np.array([decoded_venue[0], decoded_batting_team[0], decoded_bowling_team[0], decoded_striker[0], decoded_bowler[0]])\n",
    "        input_data = input_data.reshape(1, 5)\n",
    "        input_data = scaler.transform(input_data)\n",
    "        predicted_score = model.predict(input_data)\n",
    "        predicted_score = int(predicted_score[0, 0])\n",
    "\n",
    "        print(\"Predicted Score:\", predicted_score)\n",
    "\n",
    "predict_button.on_click(predict_score)\n",
    "output = widgets.Output()\n",
    "\n",
    "display(venue, batting_team, bowling_team, striker, bowler, predict_button, output)\n"
   ]
  },
  {
   "cell_type": "code",
   "execution_count": null,
   "id": "30055a6e",
   "metadata": {},
   "outputs": [],
   "source": []
  }
 ],
 "metadata": {
  "kernelspec": {
   "display_name": "Python 3 (ipykernel)",
   "language": "python",
   "name": "python3"
  },
  "language_info": {
   "codemirror_mode": {
    "name": "ipython",
    "version": 3
   },
   "file_extension": ".py",
   "mimetype": "text/x-python",
   "name": "python",
   "nbconvert_exporter": "python",
   "pygments_lexer": "ipython3",
   "version": "3.11.4"
  }
 },
 "nbformat": 4,
 "nbformat_minor": 5
}
